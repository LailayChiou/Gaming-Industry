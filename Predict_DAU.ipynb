    {
      "cell_type": "markdown",
      "metadata": {
        "id": "ScuVaZPJMVK9"
      },
      "source": [
        "[Gradio](https://gradio.app/) 是很方便可以把你 AI model 做成網路 app 的套件。現在還可以配合 [Hugging Face 的 transformers 套件](https://huggingface.co/transformers/), 很快用名門 model, 做出一個 NLP 應用!\n",
        "\n",
        "### 1. 安裝 `gradio`"
      ]
    }
